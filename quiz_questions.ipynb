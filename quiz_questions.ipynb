{
 "cells": [
  {
   "cell_type": "code",
   "execution_count": 1,
   "id": "882211bd-75cb-479c-ad76-d6466b9596f8",
   "metadata": {},
   "outputs": [
    {
     "name": "stdout",
     "output_type": "stream",
     "text": [
      "4\n"
     ]
    }
   ],
   "source": [
    "my_dict = {\"a\": 1, \"b\": 2, \"c\": 3}\n",
    "my_dict[\"c\"] += 1\n",
    "print(my_dict[\"c\"])"
   ]
  },
  {
   "cell_type": "code",
   "execution_count": 2,
   "id": "30358ab3-a454-4b4a-ac90-68ce807fc09d",
   "metadata": {},
   "outputs": [
    {
     "data": {
      "text/plain": [
       "[0, 1, 4, 9, 16, 25, 36, 49, 64, 81]"
      ]
     },
     "execution_count": 2,
     "metadata": {},
     "output_type": "execute_result"
    }
   ],
   "source": [
    "values = [i**2 for i in range(10)]\n",
    "values"
   ]
  },
  {
   "cell_type": "code",
   "execution_count": 3,
   "id": "a7d12b83-60f7-476c-8c55-ec83d11256d3",
   "metadata": {},
   "outputs": [],
   "source": [
    "dictionary = {i: \"even\" if i%2 == 0 else \"odd\" for i in values}\n"
   ]
  },
  {
   "cell_type": "code",
   "execution_count": 4,
   "id": "91b8e620-ee8d-474f-9af8-d785db1c4f0b",
   "metadata": {},
   "outputs": [
    {
     "data": {
      "text/plain": [
       "{0: 'even',\n",
       " 1: 'odd',\n",
       " 4: 'even',\n",
       " 9: 'odd',\n",
       " 16: 'even',\n",
       " 25: 'odd',\n",
       " 36: 'even',\n",
       " 49: 'odd',\n",
       " 64: 'even',\n",
       " 81: 'odd'}"
      ]
     },
     "execution_count": 4,
     "metadata": {},
     "output_type": "execute_result"
    }
   ],
   "source": [
    "dictionary"
   ]
  },
  {
   "cell_type": "code",
   "execution_count": 5,
   "id": "c43d8f61-d8ef-4b48-8fe6-0e51c5f6a966",
   "metadata": {},
   "outputs": [
    {
     "data": {
      "text/plain": [
       "[0, 4, 16, 36, 64]"
      ]
     },
     "execution_count": 5,
     "metadata": {},
     "output_type": "execute_result"
    }
   ],
   "source": [
    "output = [key for key, value in dictionary.items() if value == \"even\"]\n",
    "output"
   ]
  },
  {
   "cell_type": "code",
   "execution_count": 6,
   "id": "b958891a-cc21-43a5-88bf-031fdd68bbe7",
   "metadata": {},
   "outputs": [
    {
     "name": "stdout",
     "output_type": "stream",
     "text": [
      "5\n"
     ]
    }
   ],
   "source": [
    "print(len(output))"
   ]
  },
  {
   "cell_type": "code",
   "execution_count": 10,
   "id": "5d036448-449a-4e69-8dc8-9d14876b09e0",
   "metadata": {},
   "outputs": [
    {
     "name": "stdout",
     "output_type": "stream",
     "text": [
      "13\n"
     ]
    }
   ],
   "source": [
    "list_a = [i for i in range(10)]\n",
    "dict_a = {i: list_a[-i] for i in range(1, 6)}\n",
    "dict_a.pop(2, \"NotFound\")\n",
    "print(sum(dict_a.keys()))\n"
   ]
  },
  {
   "cell_type": "code",
   "execution_count": 12,
   "id": "b50c45eb-528c-4dd9-b214-840f0764fcad",
   "metadata": {},
   "outputs": [
    {
     "data": {
      "text/plain": [
       "True"
      ]
     },
     "execution_count": 12,
     "metadata": {},
     "output_type": "execute_result"
    }
   ],
   "source": [
    "any([True, 0, 0, 0, 0 ]) "
   ]
  },
  {
   "cell_type": "code",
   "execution_count": null,
   "id": "3431d066-2339-4ee9-a3b5-f8613a01eb62",
   "metadata": {},
   "outputs": [],
   "source": []
  }
 ],
 "metadata": {
  "kernelspec": {
   "display_name": "Python 3 (ipykernel)",
   "language": "python",
   "name": "python3"
  },
  "language_info": {
   "codemirror_mode": {
    "name": "ipython",
    "version": 3
   },
   "file_extension": ".py",
   "mimetype": "text/x-python",
   "name": "python",
   "nbconvert_exporter": "python",
   "pygments_lexer": "ipython3",
   "version": "3.12.0"
  }
 },
 "nbformat": 4,
 "nbformat_minor": 5
}
