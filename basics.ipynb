{
 "cells": [
  {
   "cell_type": "code",
   "execution_count": 4,
   "id": "8b9e703a-bae5-4fcc-84b2-1de44069b3df",
   "metadata": {},
   "outputs": [
    {
     "name": "stdout",
     "output_type": "stream",
     "text": [
      "[1, 2, 3, 4, 5]\n",
      "15\n"
     ]
    }
   ],
   "source": [
    "array = [ '1', '2', '3', '4', '5' ] \n",
    "array2 = [] \n",
    "for i in range( len(array) ): \n",
    "    array2.append( int( array[i] ) ) \n",
    "\n",
    "print( array2 ) \n",
    "sum_of_array = sum( array2 ) \n",
    "\n",
    "print( sum_of_array ) "
   ]
  },
  {
   "cell_type": "code",
   "execution_count": 5,
   "id": "dfd7bf8f-efed-4433-8f81-cf3436e1e334",
   "metadata": {},
   "outputs": [
    {
     "name": "stdout",
     "output_type": "stream",
     "text": [
      "15\n"
     ]
    }
   ],
   "source": [
    "array = [ '1', '2', '3', '4', '5' ] \n",
    "\n",
    "array3 = [ int(i) for i in array ] \n",
    "\n",
    "sum_of_array = sum( array3 ) \n",
    "\n",
    "print( sum_of_array ) "
   ]
  },
  {
   "cell_type": "code",
   "execution_count": 6,
   "id": "5798c51e-867e-4335-a8b3-5245ecd055d8",
   "metadata": {},
   "outputs": [
    {
     "name": "stdout",
     "output_type": "stream",
     "text": [
      "15\n"
     ]
    }
   ],
   "source": [
    "array = [ '1', '2', '3', '4', '5' ] \n",
    "\n",
    "mapped_array = map( int, array ) \n",
    "\n",
    "result = sum( mapped_array ) \n",
    "\n",
    "print( result ) "
   ]
  },
  {
   "cell_type": "code",
   "execution_count": 7,
   "id": "ebf91c8b-db58-4854-8bdb-b19a0c84e87e",
   "metadata": {},
   "outputs": [
    {
     "name": "stdout",
     "output_type": "stream",
     "text": [
      "6\n"
     ]
    }
   ],
   "source": [
    "# Syntax for Lambda \n",
    "\n",
    "my_lambda = lambda x, y, z: x + y + z \n",
    "\n",
    "print( my_lambda( 1, 2, 3 )  )"
   ]
  },
  {
   "cell_type": "code",
   "execution_count": 8,
   "id": "ba94125c-1104-4bc8-97d3-4e18c05bb8c2",
   "metadata": {},
   "outputs": [
    {
     "data": {
      "text/plain": [
       "function"
      ]
     },
     "execution_count": 8,
     "metadata": {},
     "output_type": "execute_result"
    }
   ],
   "source": [
    "type( my_lambda ) "
   ]
  },
  {
   "cell_type": "code",
   "execution_count": 9,
   "id": "0b9f753f-00c9-45e8-ac3a-caf260a9cc40",
   "metadata": {},
   "outputs": [],
   "source": [
    "\n",
    "def greet(name):\n",
    "    print(f'Hi {name}! How are you?') \n"
   ]
  },
  {
   "cell_type": "code",
   "execution_count": 10,
   "id": "9f43ed56-7f2e-44e0-975f-d3cfec87e125",
   "metadata": {},
   "outputs": [],
   "source": [
    "fxn_variable = greet"
   ]
  },
  {
   "cell_type": "code",
   "execution_count": 11,
   "id": "52f86f8e-30bf-45a4-98a9-721ec22eff93",
   "metadata": {},
   "outputs": [
    {
     "data": {
      "text/plain": [
       "function"
      ]
     },
     "execution_count": 11,
     "metadata": {},
     "output_type": "execute_result"
    }
   ],
   "source": [
    "type( fxn_variable ) "
   ]
  },
  {
   "cell_type": "code",
   "execution_count": 16,
   "id": "ca05e355-0c3b-4c28-aeec-0af1e1f4ab8b",
   "metadata": {},
   "outputs": [
    {
     "name": "stdout",
     "output_type": "stream",
     "text": [
      "[1, 1, 4, 27, 256]\n"
     ]
    }
   ],
   "source": [
    "lambda_fxn = lambda i: i ** i \n",
    "\n",
    "list_of_lambdas = [  lambda_fxn(i) for i in range(5 ) ] \n",
    "\n",
    "print( list_of_lambdas ) \n"
   ]
  },
  {
   "cell_type": "code",
   "execution_count": 15,
   "id": "7ded1c4c-d219-4972-84e9-6054e2d27ef3",
   "metadata": {},
   "outputs": [
    {
     "name": "stdout",
     "output_type": "stream",
     "text": [
      "<class 'function'>\n",
      "<class 'function'>\n",
      "<class 'function'>\n",
      "<class 'function'>\n",
      "<class 'function'>\n"
     ]
    }
   ],
   "source": []
  },
  {
   "cell_type": "code",
   "execution_count": null,
   "id": "0a702f77-36e2-4b88-8697-06162484f8b3",
   "metadata": {},
   "outputs": [],
   "source": []
  },
  {
   "cell_type": "code",
   "execution_count": null,
   "id": "76a56065-3f88-408e-82a6-fcbf98a3ec88",
   "metadata": {},
   "outputs": [],
   "source": []
  }
 ],
 "metadata": {
  "kernelspec": {
   "display_name": "Python 3 (ipykernel)",
   "language": "python",
   "name": "python3"
  },
  "language_info": {
   "codemirror_mode": {
    "name": "ipython",
    "version": 3
   },
   "file_extension": ".py",
   "mimetype": "text/x-python",
   "name": "python",
   "nbconvert_exporter": "python",
   "pygments_lexer": "ipython3",
   "version": "3.12.0"
  }
 },
 "nbformat": 4,
 "nbformat_minor": 5
}
